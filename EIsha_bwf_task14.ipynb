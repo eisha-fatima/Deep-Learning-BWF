{
  "nbformat": 4,
  "nbformat_minor": 0,
  "metadata": {
    "colab": {
      "provenance": []
    },
    "kernelspec": {
      "name": "python3",
      "display_name": "Python 3"
    },
    "language_info": {
      "name": "python"
    }
  },
  "cells": [
    {
      "cell_type": "code",
      "execution_count": 1,
      "metadata": {
        "colab": {
          "base_uri": "https://localhost:8080/"
        },
        "id": "-hLbc8H0IWsK",
        "outputId": "438994a0-3478-44c7-8303-877421467c2a"
      },
      "outputs": [
        {
          "output_type": "stream",
          "name": "stdout",
          "text": [
            "   Duration  Pulse  Maxpulse  Calories\n",
            "0        60    110       130     409.1\n",
            "1        60    117       145     479.0\n",
            "2        60    103       135     340.0\n",
            "3        45    109       175     282.4\n",
            "4        45    117       148     406.0\n"
          ]
        }
      ],
      "source": [
        "import pandas as pd\n",
        "\n",
        "# Load data from a CSV file\n",
        "df = pd.read_csv('data.csv')\n",
        "\n",
        "# Print the first five rows of the DataFrame\n",
        "print(df.head())"
      ]
    },
    {
      "cell_type": "code",
      "source": [
        "import pandas as pd\n",
        "\n",
        "df = pd.read_json('example_2.json')\n",
        "print(df.head())\n",
        "\n"
      ],
      "metadata": {
        "colab": {
          "base_uri": "https://localhost:8080/"
        },
        "id": "QB4V-Z1bJGGf",
        "outputId": "5ad7f2d1-bce3-4cec-d627-2479dc61f35a"
      },
      "execution_count": 19,
      "outputs": [
        {
          "output_type": "stream",
          "name": "stdout",
          "text": [
            "   Duration  Pulse  Maxpulse  Calories\n",
            "0        60    110       130     409.1\n",
            "1        60    117       145     479.0\n",
            "2        60    103       135     340.0\n",
            "3        45    109       175     282.4\n",
            "4        45    117       148     406.0\n"
          ]
        }
      ]
    },
    {
      "cell_type": "code",
      "source": [
        "import pandas as pd\n",
        "\n",
        "# Load data from an Excel file\n",
        "df = pd.read_excel('employee.xlsx')\n",
        "\n",
        "# Print the first five rows of the DataFrame\n",
        "print(df.head())"
      ],
      "metadata": {
        "colab": {
          "base_uri": "https://localhost:8080/"
        },
        "id": "i-pvzX0RJR9E",
        "outputId": "77968be6-3ffd-4f45-d207-779273d32ab0"
      },
      "execution_count": 3,
      "outputs": [
        {
          "output_type": "stream",
          "name": "stdout",
          "text": [
            "   emp_id first_name last_name  hire_date\n",
            "0     100     Steven      King 2003-06-17\n",
            "1     101      Neena   Kochhar 2005-09-21\n",
            "2     102        Lex   De Haan 2001-01-13\n",
            "3     103  Alexander    Hunold 2006-01-03\n",
            "4     104      Bruce     Ernst 2007-05-21\n"
          ]
        }
      ]
    },
    {
      "cell_type": "code",
      "source": [
        "import sqlite3\n",
        "\n",
        "# Create a SQL connection to our SQLite database\n",
        "con = sqlite3.connect(\"chinook.db\")\n",
        "\n",
        "\n",
        "# Load data from a SQL query\n",
        "df = pd.read_sql('SELECT * FROM invoice_items', con)\n",
        "\n",
        "# Print the first five rows of the DataFrame\n",
        "print(df.head())\n",
        "# Be sure to close the connection\n",
        "con.close()"
      ],
      "metadata": {
        "colab": {
          "base_uri": "https://localhost:8080/"
        },
        "id": "WRS-EzQdPOM3",
        "outputId": "ae7daeec-a30a-4740-c3e1-86bc152c283d"
      },
      "execution_count": 24,
      "outputs": [
        {
          "output_type": "stream",
          "name": "stdout",
          "text": [
            "   InvoiceLineId  InvoiceId  TrackId  UnitPrice  Quantity\n",
            "0              1          1        2       0.99         1\n",
            "1              2          1        4       0.99         1\n",
            "2              3          2        6       0.99         1\n",
            "3              4          2        8       0.99         1\n",
            "4              5          2       10       0.99         1\n"
          ]
        }
      ]
    }
  ]
}