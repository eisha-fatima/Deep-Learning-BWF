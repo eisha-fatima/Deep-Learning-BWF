{
  "nbformat": 4,
  "nbformat_minor": 0,
  "metadata": {
    "colab": {
      "provenance": []
    },
    "kernelspec": {
      "name": "python3",
      "display_name": "Python 3"
    },
    "language_info": {
      "name": "python"
    }
  },
  "cells": [
    {
      "cell_type": "markdown",
      "source": [
        "**Supervised Learning:**\n",
        "\n",
        "\n",
        "\n",
        "Supervised learning is a type of machine learning where the algorithm is trained using labeled data. The algorithm learns to map the input data to the correct output based on the labeled data. The goal of supervised learning is to create a model that can accurately predict the output for new, unseen inputs. Examples of supervised learning include image classification, spam detection, and sentiment analysis.\n",
        "\n",
        "**Unsupervised Learning:**\n",
        "\n",
        "Unsupervised learning is a type of machine learning where the algorithm is trained using unlabeled data. The algorithm learns to find patterns and structure in the input data without any explicit guidance on what to look for. The goal of unsupervised learning is to find hidden structure in the data that can be used for further analysis or to guide decision-making. Examples of unsupervised learning include clustering, dimensionality reduction, and anomaly detection.\n",
        "\n",
        "\n",
        "\n",
        "**Self-Supervised Learning:**\n",
        "\n",
        "Self-supervised learning is a type of machine learning where the algorithm is trained using a supervised task that is generated from the input data itself, rather than from labeled data. This allows the algorithm to learn from large amounts of unlabeled data without the need for explicit labeling. Self-supervised learning has been used for a variety of tasks, including image and video analysis, speech recognition, and natural language processing.\n",
        "\n",
        "**Reinforcement Learning:**\n",
        "\n",
        "Reinforcement learning is a type of machine learning where the algorithm learns by interacting with an environment and receiving feedback in the form of rewards or punishments. The algorithm learns to take actions that maximize the rewards over time. Reinforcement learning has been used for a variety of tasks, including game playing, robotics, and autonomous driving.\n",
        "\n",
        "**Examples:**\n",
        "\n",
        "**Supervised Learning:**\n",
        "\n",
        "An example of supervised learning is predicting whether a customer will buy a product or not based on their demographic data and past purchase history.\n",
        "\n",
        "**Unsupervised Learning:**\n",
        "\n",
        "An example of unsupervised learning is grouping customers into different segments based on their shopping behavior and purchase history, without any prior knowledge of what those segments might be.\n",
        "\n",
        "**Self-Supervised Learning:**\n",
        "\n",
        "An example of self-supervised learning is predicting the missing word in a sentence, where the missing word is selected randomly from the sentence itself.\n",
        "\n",
        "**Reinforcement Learning:**\n",
        "\n",
        "An example of reinforcement learning is training a robot to navigate a maze by providing it with rewards for reaching certain checkpoints and punishments for hitting walls."
      ],
      "metadata": {
        "id": "66-raS4YkGj8"
      }
    }
  ]
}