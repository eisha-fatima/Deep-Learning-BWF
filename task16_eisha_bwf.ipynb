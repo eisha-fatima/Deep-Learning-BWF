{
 "cells": [
  {
   "cell_type": "code",
   "execution_count": 2,
   "metadata": {},
   "outputs": [
    {
     "name": "stdout",
     "output_type": "stream",
     "text": [
      "  key  value\n",
      "0   A      1\n",
      "1   B      2\n",
      "2   C      3\n",
      "3   D      4\n",
      "  key  value\n",
      "0   B      5\n",
      "1   D      6\n",
      "2   E      7\n",
      "3   F      8\n",
      "  key  value_x  value_y\n",
      "0   B        2        5\n",
      "1   D        4        6\n"
     ]
    }
   ],
   "source": [
    "import pandas as pd\n",
    "df1 = pd.DataFrame({'key': ['A', 'B', 'C', 'D'], 'value': [1, 2, 3, 4]})\n",
    "df2 = pd.DataFrame({'key': ['B', 'D', 'E', 'F'], 'value': [5, 6, 7, 8]})\n",
    "# Merging\n",
    "print(df1)\n",
    "print(df2)\n",
    "merged_df = pd.merge(df1, df2, on='key')\n",
    "\n",
    "print(merged_df)"
   ]
  },
  {
   "cell_type": "code",
   "execution_count": 4,
   "metadata": {},
   "outputs": [
    {
     "name": "stdout",
     "output_type": "stream",
     "text": [
      "A    1\n",
      "B    2\n",
      "C    3\n",
      "D    4\n",
      "Name: Value1, dtype: int64\n",
      "B    5\n",
      "D    6\n",
      "E    7\n",
      "F    8\n",
      "Name: Value2, dtype: int64\n",
      "   Value1  Value2\n",
      "A     1.0     NaN\n",
      "B     2.0     5.0\n",
      "C     3.0     NaN\n",
      "D     4.0     6.0\n",
      "E     NaN     7.0\n",
      "F     NaN     8.0\n"
     ]
    }
   ],
   "source": [
    "# Creating two sample Series\n",
    "s1 = pd.Series([1, 2, 3, 4], index=['A', 'B', 'C', 'D'], name='Value1')\n",
    "s2 = pd.Series([5, 6, 7, 8], index=['B', 'D', 'E', 'F'], name='Value2')\n",
    "print(s1)\n",
    "print(s2)\n",
    "# Merging\n",
    "merged_s = pd.merge(s1, s2, left_index=True, right_index=True, how='outer')\n",
    "\n",
    "print(merged_s)"
   ]
  },
  {
   "cell_type": "code",
   "execution_count": 6,
   "metadata": {},
   "outputs": [
    {
     "name": "stdout",
     "output_type": "stream",
     "text": [
      "A    1\n",
      "B    2\n",
      "C    3\n",
      "D    4\n",
      "Name: Value1, dtype: int64\n",
      "B    5\n",
      "D    6\n",
      "E    7\n",
      "F    8\n",
      "Name: Value2, dtype: int64\n",
      "   Value1  Value2\n",
      "A       1     NaN\n",
      "B       2     5.0\n",
      "C       3     NaN\n",
      "D       4     6.0\n",
      "   Value1  Value2\n",
      "B     2.0       5\n",
      "D     4.0       6\n",
      "E     NaN       7\n",
      "F     NaN       8\n"
     ]
    }
   ],
   "source": [
    "#LEFT AND RIGHT MERGE/JOIN\n",
    "s1 = pd.Series([1, 2, 3, 4], index=['A', 'B', 'C', 'D'], name='Value1')\n",
    "s2 = pd.Series([5, 6, 7, 8], index=['B', 'D', 'E', 'F'], name='Value2')\n",
    "\n",
    "print(s1)\n",
    "print(s2)\n",
    "# Performing a left merge on the two Series\n",
    "left_merge_s = pd.merge(s1, s2, left_index=True, right_index=True, how='left')\n",
    "\n",
    "# Performing a right merge on the two Series\n",
    "right_merge_s = pd.merge(s1, s2, left_index=True, right_index=True, how='right')\n",
    "\n",
    "# Printing the left and right merged Series\n",
    "print(left_merge_s)\n",
    "print(right_merge_s)"
   ]
  },
  {
   "cell_type": "code",
   "execution_count": 10,
   "metadata": {},
   "outputs": [
    {
     "name": "stdout",
     "output_type": "stream",
     "text": [
      "         Math  Science  History\n",
      "Name                           \n",
      "Alice      85       90       80\n",
      "Bob        90       80       85\n",
      "Charlie    75       85       90\n",
      "Name            \n",
      "Alice    Math       85\n",
      "         Science    90\n",
      "         History    80\n",
      "Bob      Math       90\n",
      "         Science    80\n",
      "         History    85\n",
      "Charlie  Math       75\n",
      "         Science    85\n",
      "         History    90\n",
      "dtype: int64\n"
     ]
    }
   ],
   "source": [
    "import pandas as pd\n",
    "df = pd.DataFrame({\n",
    "    'Name': ['Alice', 'Bob', 'Charlie'],\n",
    "    'Math': [85, 90, 75],\n",
    "    'Science': [90, 80, 85],\n",
    "    'History': [80, 85, 90]\n",
    "})\n",
    "df.set_index('Name', inplace=True)\n",
    "print(df)\n",
    "# Stacking the DataFrame\n",
    "stacked_df = df.stack()\n",
    "print(stacked_df)"
   ]
  },
  {
   "cell_type": "code",
   "execution_count": 9,
   "metadata": {},
   "outputs": [
    {
     "name": "stdout",
     "output_type": "stream",
     "text": [
      "         Math  Science  History\n",
      "Name                           \n",
      "Alice      85       90       80\n",
      "Bob        90       80       85\n",
      "Charlie    75       85       90\n"
     ]
    }
   ],
   "source": [
    "#Unstacking\n",
    "unstacked_df = stacked_df.unstack()\n",
    "print(unstacked_df)"
   ]
  },
  {
   "cell_type": "code",
   "execution_count": 11,
   "metadata": {},
   "outputs": [
    {
     "name": "stdout",
     "output_type": "stream",
     "text": [
      "    A   B\n",
      "0  A0  B0\n",
      "1  A1  B1\n",
      "2  A2  B2\n",
      "3  A3  B3\n",
      "0  A4  B4\n",
      "1  A5  B5\n",
      "2  A6  B6\n",
      "3  A7  B7\n"
     ]
    }
   ],
   "source": [
    "df1 = pd.DataFrame({\n",
    "    'A': ['A0', 'A1', 'A2', 'A3'],\n",
    "    'B': ['B0', 'B1', 'B2', 'B3']\n",
    "})\n",
    "\n",
    "df2 = pd.DataFrame({\n",
    "    'A': ['A4', 'A5', 'A6', 'A7'],\n",
    "    'B': ['B4', 'B5', 'B6', 'B7']\n",
    "})\n",
    "\n",
    "# Concatenating\n",
    "result = pd.concat([df1, df2])\n",
    "print(result)"
   ]
  }
 ],
 "metadata": {
  "kernelspec": {
   "display_name": "Python 3",
   "language": "python",
   "name": "python3"
  },
  "language_info": {
   "codemirror_mode": {
    "name": "ipython",
    "version": 3
   },
   "file_extension": ".py",
   "mimetype": "text/x-python",
   "name": "python",
   "nbconvert_exporter": "python",
   "pygments_lexer": "ipython3",
   "version": "3.10.4"
  },
  "orig_nbformat": 4
 },
 "nbformat": 4,
 "nbformat_minor": 2
}
