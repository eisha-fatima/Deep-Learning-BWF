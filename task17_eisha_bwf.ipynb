{
  "nbformat": 4,
  "nbformat_minor": 0,
  "metadata": {
    "colab": {
      "provenance": []
    },
    "kernelspec": {
      "name": "python3",
      "display_name": "Python 3"
    },
    "language_info": {
      "name": "python"
    }
  },
  "cells": [
    {
      "cell_type": "code",
      "execution_count": 6,
      "metadata": {
        "colab": {
          "base_uri": "https://localhost:8080/"
        },
        "id": "FRDGWxP_cbV4",
        "outputId": "05d58200-579f-4702-b401-23a67f44aa2c"
      },
      "outputs": [
        {
          "output_type": "stream",
          "name": "stdout",
          "text": [
            "Accuracy: 0.8557692307692307\n"
          ]
        }
      ],
      "source": [
        "import pandas as pd\n",
        "from sklearn.model_selection import train_test_split\n",
        "from sklearn.neighbors import KNeighborsClassifier\n",
        "from sklearn.metrics import accuracy_score\n",
        "from sklearn.preprocessing import LabelEncoder\n",
        "df = pd.read_csv(\"https://archive.ics.uci.edu/ml/machine-learning-databases/00529/diabetes_data_upload.csv\")\n",
        "X = df.iloc[:, :-1]\n",
        "y = df.iloc[:, -1]\n",
        "# Encode categorical variables to numerical values\n",
        "label_encoder = LabelEncoder()\n",
        "X['Gender'] = label_encoder.fit_transform(X['Gender'])\n",
        "X['Polyuria'] = label_encoder.fit_transform(X['Polyuria'])\n",
        "X['Polydipsia'] = label_encoder.fit_transform(X['Polydipsia'])\n",
        "X['sudden weight loss'] = label_encoder.fit_transform(X['sudden weight loss'])\n",
        "X['weakness'] = label_encoder.fit_transform(X['weakness'])\n",
        "X['Polyphagia'] = label_encoder.fit_transform(X['Polyphagia'])\n",
        "X['Genital thrush'] = label_encoder.fit_transform(X['Genital thrush'])\n",
        "X['visual blurring'] = label_encoder.fit_transform(X['visual blurring'])\n",
        "X['Itching'] = label_encoder.fit_transform(X['Itching'])\n",
        "X['Irritability'] = label_encoder.fit_transform(X['Irritability'])\n",
        "X['delayed healing'] = label_encoder.fit_transform(X['delayed healing'])\n",
        "X['partial paresis'] = label_encoder.fit_transform(X['partial paresis'])\n",
        "X['muscle stiffness'] = label_encoder.fit_transform(X['muscle stiffness'])\n",
        "X['Alopecia'] = label_encoder.fit_transform(X['Alopecia'])\n",
        "X['Obesity'] = label_encoder.fit_transform(X['Obesity'])\n",
        "\n",
        "X_train, X_test, y_train, y_test = train_test_split(X, y, test_size=0.2, random_state=42)\n",
        "knn = KNeighborsClassifier(n_neighbors=5)\n",
        "knn.fit(X_train, y_train)\n",
        "y_pred = knn.predict(X_test)\n",
        "accuracy = accuracy_score(y_test, y_pred)\n",
        "print(\"Accuracy:\", accuracy)\n"
      ]
    }
  ]
}