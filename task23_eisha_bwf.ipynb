{
  "nbformat": 4,
  "nbformat_minor": 0,
  "metadata": {
    "colab": {
      "provenance": []
    },
    "kernelspec": {
      "name": "python3",
      "display_name": "Python 3"
    },
    "language_info": {
      "name": "python"
    }
  },
  "cells": [
    {
      "cell_type": "markdown",
      "source": [
        "Splitting a dataset into training, validation, and test sets is an important concept in machine learning. It helps to evaluate the performance of the model and prevent overfitting.\n",
        "\n",
        "The training set is used to train the model, the validation set is used to tune the hyperparameters of the model, and the test set is used to evaluate the final performance of the model on unseen data.\n",
        "\n",
        "To split the dataset into training, validation, and test sets, we can use the train_test_split function from the scikit-learn library. Here is an example:"
      ],
      "metadata": {
        "id": "15979sP0n8No"
      }
    },
    {
      "cell_type": "code",
      "source": [
        "from sklearn.datasets import load_iris\n",
        "from sklearn.model_selection import train_test_split\n",
        "\n",
        "# Load the Iris dataset\n",
        "iris = load_iris()\n",
        "\n",
        "# Split the data into training and testing sets\n",
        "X_train, X_test, y_train, y_test = train_test_split(iris.data, iris.target, test_size=0.2, random_state=42)\n",
        "\n",
        "# Further split the training data into training and validation sets\n",
        "X_train, X_val, y_train, y_val = train_test_split(X_train, y_train, test_size=0.2, random_state=42)\n",
        "\n",
        "# Print the shapes of the resulting datasets\n",
        "print(f\"Training data shape: {X_train.shape}\")\n",
        "print(f\"Validation data shape: {X_val.shape}\")\n",
        "print(f\"Testing data shape: {X_test.shape}\")\n"
      ],
      "metadata": {
        "colab": {
          "base_uri": "https://localhost:8080/"
        },
        "id": "IbND1dIon8XB",
        "outputId": "1d85115c-4881-4c9e-e3b5-1379e91503f1"
      },
      "execution_count": 11,
      "outputs": [
        {
          "output_type": "stream",
          "name": "stdout",
          "text": [
            "Training data shape: (96, 4)\n",
            "Validation data shape: (24, 4)\n",
            "Testing data shape: (30, 4)\n"
          ]
        }
      ]
    }
  ]
}